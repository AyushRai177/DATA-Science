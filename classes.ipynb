{
 "cells": [
  {
   "cell_type": "code",
   "execution_count": 9,
   "metadata": {},
   "outputs": [],
   "source": []
  },
  {
   "cell_type": "code",
   "execution_count": 21,
   "metadata": {},
   "outputs": [],
   "source": [
    "class Student:\n",
    "    def __init__(self,name,college,qualification):\n",
    "        self.name=name\n",
    "        self.college=college\n",
    "        self.qualification=qualification\n",
    "\n",
    "    def __repr__(self):\n",
    "        return self.name"
   ]
  },
  {
   "cell_type": "code",
   "execution_count": 22,
   "metadata": {},
   "outputs": [],
   "source": [
    "stdobjs = [\n",
    "    Student('Rohan','Sky high','Bachelors'),\n",
    "    Student('Rahul','Sky high','Masters'),\n",
    "    Student('Raj','Sky high','Bachelors'),\n",
    "    Student('Ravi','Sky high','Bachelors'),\n",
    "]"
   ]
  },
  {
   "cell_type": "code",
   "execution_count": 23,
   "metadata": {},
   "outputs": [
    {
     "data": {
      "text/plain": [
       "[Rohan, Rahul, Raj, Ravi]"
      ]
     },
     "execution_count": 23,
     "metadata": {},
     "output_type": "execute_result"
    }
   ],
   "source": [
    "stdobjs"
   ]
  },
  {
   "cell_type": "code",
   "execution_count": 25,
   "metadata": {},
   "outputs": [],
   "source": [
    "class Triangle:\n",
    "    def __init__(self, b=0, h=0):\n",
    "        self.base=b\n",
    "        self.height=h\n",
    "\n",
    "    def area(self):\n",
    "        return self.base*self.height /2\n",
    "    \n",
    "    def __repr__(self):\n",
    "        return f'Triangle({self.area()})'"
   ]
  },
  {
   "cell_type": "code",
   "execution_count": 26,
   "metadata": {},
   "outputs": [
    {
     "data": {
      "text/plain": [
       "[Triangle(30.0), Triangle(25.0), Triangle(20.0), Triangle(25.0)]"
      ]
     },
     "execution_count": 26,
     "metadata": {},
     "output_type": "execute_result"
    }
   ],
   "source": [
    "data=[Triangle(12,5),Triangle(10,5),Triangle(8,5),Triangle(10,5)]\n",
    "data"
   ]
  },
  {
   "cell_type": "code",
   "execution_count": 49,
   "metadata": {},
   "outputs": [],
   "source": [
    "import os\n",
    "class Reader:\n",
    "    def __init__(self, path):\n",
    "        if not os.path.exists(path):\n",
    "            raise Exception('File does not exists')\n",
    "        self.path= path\n",
    "        self.content=self.read()\n",
    "\n",
    "    def read(self):\n",
    "        with open(self.path, 'r') as f:\n",
    "            return f.read()\n",
    "    def count_words(self):\n",
    "        return len(self.content.split())\n",
    "    \n",
    "    def count_chars(self):\n",
    "        return(self.content)\n",
    "    \n",
    "    def __str__(self):\n",
    "        return self.content"
   ]
  },
  {
   "cell_type": "code",
   "execution_count": 51,
   "metadata": {},
   "outputs": [
    {
     "name": "stdout",
     "output_type": "stream",
     "text": [
      "algorithm\n",
      "\n",
      "conclusion\n",
      "\n",
      "life cycle model\n",
      "\n",
      "\n",
      "\n",
      "Algorithm\n",
      "\n",
      "Gradient Boosting:\n",
      "\n",
      "\n",
      "Gradient boosting is a machine learning technique used for both regression and classification tasks. \n",
      "\n",
      "LDA:\n",
      "\n",
      "LDA, or Linear Discriminant Analysis, is a linear classification algorithm that assumes that \n",
      "\n",
      "the data is normally distributed and that each class has its own covariance matrix.\n",
      "\n",
      "QDA:\n",
      "\n",
      "QDA, or Quadratic Discriminant Analysis, is a non-linear classification algorithm it assumes the\n",
      "data is normally distributed, but it allows each class to have its own covariance matrix.\n",
      "\n",
      "\n",
      "\n",
      "Conclusion:\n",
      "\n",
      "The main benifit of creating this project is to  the  algorithm we use can bring any improvement or not in \n",
      "liver disease prediction.\n",
      "\n",
      "\n"
     ]
    }
   ],
   "source": [
    "r1=Reader(r'C:\\0\\liv np.txt')\n",
    "print(r1)"
   ]
  },
  {
   "cell_type": "code",
   "execution_count": null,
   "metadata": {},
   "outputs": [],
   "source": []
  }
 ],
 "metadata": {
  "kernelspec": {
   "display_name": "base",
   "language": "python",
   "name": "python3"
  },
  "language_info": {
   "codemirror_mode": {
    "name": "ipython",
    "version": 3
   },
   "file_extension": ".py",
   "mimetype": "text/x-python",
   "name": "python",
   "nbconvert_exporter": "python",
   "pygments_lexer": "ipython3",
   "version": "3.10.8"
  },
  "orig_nbformat": 4
 },
 "nbformat": 4,
 "nbformat_minor": 2
}
