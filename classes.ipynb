{
 "cells": [
  {
   "cell_type": "code",
   "execution_count": 9,
   "metadata": {},
   "outputs": [],
   "source": []
  },
  {
   "cell_type": "code",
   "execution_count": 21,
   "metadata": {},
   "outputs": [],
   "source": [
    "class Student:\n",
    "    def __init__(self,name,college,qualification):\n",
    "        self.name=name\n",
    "        self.college=college\n",
    "        self.qualification=qualification\n",
    "\n",
    "    def __repr__(self):\n",
    "        return self.name"
   ]
  },
  {
   "cell_type": "code",
   "execution_count": 22,
   "metadata": {},
   "outputs": [],
   "source": [
    "stdobjs = [\n",
    "    Student('Rohan','Sky high','Bachelors'),\n",
    "    Student('Rahul','Sky high','Masters'),\n",
    "    Student('Raj','Sky high','Bachelors'),\n",
    "    Student('Ravi','Sky high','Bachelors'),\n",
    "]"
   ]
  },
  {
   "cell_type": "code",
   "execution_count": 23,
   "metadata": {},
   "outputs": [
    {
     "data": {
      "text/plain": [
       "[Rohan, Rahul, Raj, Ravi]"
      ]
     },
     "execution_count": 23,
     "metadata": {},
     "output_type": "execute_result"
    }
   ],
   "source": [
    "stdobjs"
   ]
  },
  {
   "cell_type": "code",
   "execution_count": 25,
   "metadata": {},
   "outputs": [],
   "source": [
    "class Triangle:\n",
    "    def __init__(self, b=0, h=0):\n",
    "        self.base=b\n",
    "        self.height=h\n",
    "\n",
    "    def area(self):\n",
    "        return self.base*self.height /2\n",
    "    \n",
    "    def __repr__(self):\n",
    "        return f'Triangle({self.area()})'"
   ]
  },
  {
   "cell_type": "code",
   "execution_count": 26,
   "metadata": {},
   "outputs": [
    {
     "data": {
      "text/plain": [
       "[Triangle(30.0), Triangle(25.0), Triangle(20.0), Triangle(25.0)]"
      ]
     },
     "execution_count": 26,
     "metadata": {},
     "output_type": "execute_result"
    }
   ],
   "source": [
    "data=[Triangle(12,5),Triangle(10,5),Triangle(8,5),Triangle(10,5)]\n",
    "data"
   ]
  },
  {
   "cell_type": "code",
   "execution_count": 49,
   "metadata": {},
   "outputs": [],
   "source": [
    "import os\n",
    "class Reader:\n",
    "    def __init__(self, path):\n",
    "        if not os.path.exists(path):\n",
    "            raise Exception('File does not exists')\n",
    "        self.path= path\n",
    "        self.content=self.read()\n",
    "\n",
    "    def read(self):\n",
    "        with open(self.path, 'r') as f:\n",
    "            return f.read()\n",
    "    def count_words(self):\n",
    "        return len(self.content.split())\n",
    "    \n",
    "    def count_chars(self):\n",
    "        return(self.content)\n",
    "    \n",
    "    def __str__(self):\n",
    "        return self.content"
   ]
  },
  {
   "cell_type": "code",
   "execution_count": 52,
   "metadata": {},
   "outputs": [
    {
     "name": "stdout",
     "output_type": "stream",
     "text": [
      "algorithm\n",
      "\n",
      "conclusion\n",
      "\n",
      "life cycle model\n",
      "\n",
      "\n",
      "\n",
      "Algorithm\n",
      "\n",
      "Gradient Boosting:\n",
      "\n",
      "\n",
      "Gradient boosting is a machine learning technique used for both regression and classification tasks. \n",
      "\n",
      "LDA:\n",
      "\n",
      "LDA, or Linear Discriminant Analysis, is a linear classification algorithm that assumes that \n",
      "\n",
      "the data is normally distributed and that each class has its own covariance matrix.\n",
      "\n",
      "QDA:\n",
      "\n",
      "QDA, or Quadratic Discriminant Analysis, is a non-linear classification algorithm it assumes the\n",
      "data is normally distributed, but it allows each class to have its own covariance matrix.\n",
      "\n",
      "\n",
      "\n",
      "Conclusion:\n",
      "\n",
      "The main benifit of creating this project is to  the  algorithm we use can bring any improvement or not in \n",
      "liver disease prediction.\n",
      "\n",
      "\n"
     ]
    }
   ],
   "source": [
    "r1=Reader(r'C:\\0\\liv np.txt')\n",
    "print(r1)"
   ]
  },
  {
   "cell_type": "code",
   "execution_count": 53,
   "metadata": {},
   "outputs": [],
   "source": [
    "class user:\n",
    "    def __init__(self ,name ,age=21,gender=\"Female\"):\n",
    "        self.name= name\n",
    "        self.age= age\n",
    "        self.gender= gender\n",
    "\n",
    "    def __repr__(self):\n",
    "        return self.name\n"
   ]
  },
  {
   "cell_type": "code",
   "execution_count": 55,
   "metadata": {},
   "outputs": [
    {
     "data": {
      "text/plain": [
       "ayush"
      ]
     },
     "execution_count": 55,
     "metadata": {},
     "output_type": "execute_result"
    }
   ],
   "source": [
    "u1= user('ayush',22,'Male')\n",
    "u1\n"
   ]
  },
  {
   "cell_type": "code",
   "execution_count": 62,
   "metadata": {},
   "outputs": [
    {
     "ename": "SyntaxError",
     "evalue": "invalid syntax (1917715086.py, line 2)",
     "output_type": "error",
     "traceback": [
      "\u001b[1;36m  Cell \u001b[1;32mIn[62], line 2\u001b[1;36m\u001b[0m\n\u001b[1;33m    def__init__(self, nm, college, klass , rollno, age=21, gdr= 'female'):\u001b[0m\n\u001b[1;37m                                                                         ^\u001b[0m\n\u001b[1;31mSyntaxError\u001b[0m\u001b[1;31m:\u001b[0m invalid syntax\n"
     ]
    }
   ],
   "source": [
    "class student(user):\n",
    "    def__init__(self, nm, college, klass , rollno, age=21, gdr= 'female'):\n",
    "        super().__init__(nm,age,gender)\n",
    "        self.college=college\n",
    "        self.klass=klass\n",
    "        self.rollno=rollno\n",
    "    \n",
    "    def info(self):\n",
    "        print('student details')\n",
    "        print('Name:',self.name)\n",
    "        print('Age:',self.age)\n",
    "        print('colleg:',self.college)\n",
    "        print('klass:',self.klass)\n",
    "        print('Rollno:',self.rollno)\n",
    "        print('***'*10)"
   ]
  },
  {
   "cell_type": "code",
   "execution_count": 63,
   "metadata": {},
   "outputs": [
    {
     "ename": "TypeError",
     "evalue": "student() takes no arguments",
     "output_type": "error",
     "traceback": [
      "\u001b[1;31m---------------------------------------------------------------------------\u001b[0m",
      "\u001b[1;31mTypeError\u001b[0m                                 Traceback (most recent call last)",
      "Cell \u001b[1;32mIn[63], line 1\u001b[0m\n\u001b[1;32m----> 1\u001b[0m S1\u001b[39m=\u001b[39mstudent(\u001b[39m'\u001b[39;49m\u001b[39mAyush\u001b[39;49m\u001b[39m'\u001b[39;49m,\u001b[39m'\u001b[39;49m\u001b[39mBBDU\u001b[39;49m\u001b[39m'\u001b[39;49m,\u001b[39m'\u001b[39;49m\u001b[39mbca\u001b[39;49m\u001b[39m'\u001b[39;49m,\u001b[39m'\u001b[39;49m\u001b[39m391200\u001b[39;49m\u001b[39m'\u001b[39;49m,age\u001b[39m=\u001b[39;49m\u001b[39m'\u001b[39;49m\u001b[39m25\u001b[39;49m\u001b[39m'\u001b[39;49m)\n",
      "\u001b[1;31mTypeError\u001b[0m: student() takes no arguments"
     ]
    }
   ],
   "source": [
    "S1=student('Ayush','BBDU','bca','391200',age='25')"
   ]
  },
  {
   "cell_type": "code",
   "execution_count": 64,
   "metadata": {},
   "outputs": [],
   "source": [
    "x=[1,2,3,4,5]\n",
    "y=[10,20,30,40,50]"
   ]
  },
  {
   "cell_type": "code",
   "execution_count": 84,
   "metadata": {},
   "outputs": [],
   "source": [
    "class My_List(list):\n",
    "    def __mul__(self , other):\n",
    "        output=[]\n",
    "        for i,j in zip(self,other):\n",
    "            output.append(i*j)\n",
    "        return output\n",
    "    \n",
    "    def sum(self):\n",
    "        return sum(self)\n",
    "    \n",
    "    def mean(self):\n",
    "        return sum(self)/len(self)\n"
   ]
  },
  {
   "cell_type": "code",
   "execution_count": 86,
   "metadata": {},
   "outputs": [
    {
     "name": "stdout",
     "output_type": "stream",
     "text": [
      "[10, 40, 90, 160, 250]\n"
     ]
    }
   ],
   "source": [
    "x=My_List([1,2,3,4,5])\n",
    "y=My_List([10,20,30,40,50])\n",
    "print(x * y)"
   ]
  },
  {
   "cell_type": "code",
   "execution_count": null,
   "metadata": {},
   "outputs": [],
   "source": []
  }
 ],
 "metadata": {
  "kernelspec": {
   "display_name": "base",
   "language": "python",
   "name": "python3"
  },
  "language_info": {
   "codemirror_mode": {
    "name": "ipython",
    "version": 3
   },
   "file_extension": ".py",
   "mimetype": "text/x-python",
   "name": "python",
   "nbconvert_exporter": "python",
   "pygments_lexer": "ipython3",
   "version": "3.10.8"
  },
  "orig_nbformat": 4,
  "vscode": {
   "interpreter": {
    "hash": "6f5583cf1d9466b5c27e75c89cc6b383bed5736d6b16c51c8074d8690011a952"
   }
  }
 },
 "nbformat": 4,
 "nbformat_minor": 2
}
