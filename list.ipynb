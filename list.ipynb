{
 "cells": [
  {
   "cell_type": "code",
   "execution_count": 5,
   "metadata": {},
   "outputs": [
    {
     "data": {
      "text/plain": [
       "['polar',\n",
       " 'Action',\n",
       " 'hero',\n",
       " 'Thriller',\n",
       " 'RRR',\n",
       " 'Drishyam 2',\n",
       " 'Farzi',\n",
       " 'The night manger']"
      ]
     },
     "execution_count": 5,
     "metadata": {},
     "output_type": "execute_result"
    }
   ],
   "source": [
    "movie"
   ]
  },
  {
   "cell_type": "code",
   "execution_count": 6,
   "metadata": {},
   "outputs": [],
   "source": [
    "a=[]\n",
    "b=[1,2,3,4,5,6,7,2]\n",
    "c=['apple','bnana','orange']\n",
    "d=[[1,2,3],[4,5,6],[7,8,9]]\n",
    "e=['apple',20,False,'mango',50.5,True]"
   ]
  },
  {
   "cell_type": "code",
   "execution_count": 7,
   "metadata": {},
   "outputs": [
    {
     "name": "stdout",
     "output_type": "stream",
     "text": [
      "['T', 'h', 'e', ' ', 'l', 'o', 's', 't', ' ', 'm', 'e', 't', 'a', 'l']\n"
     ]
    }
   ],
   "source": [
    "word='The lost metal'\n",
    "chars=list(word)\n",
    "print(chars)"
   ]
  },
  {
   "cell_type": "code",
   "execution_count": 8,
   "metadata": {},
   "outputs": [
    {
     "name": "stdout",
     "output_type": "stream",
     "text": [
      "[1, 2, 3, 1, 2, 3, 1, 2, 3, 1, 2, 3, 1, 2, 3]\n"
     ]
    }
   ],
   "source": [
    "f=[1,2,3]*5\n",
    "print(f)"
   ]
  },
  {
   "cell_type": "code",
   "execution_count": 14,
   "metadata": {},
   "outputs": [],
   "source": [
    "name=input(\"enter a name:\")\n",
    "a.append(name)"
   ]
  },
  {
   "cell_type": "code",
   "execution_count": 4,
   "metadata": {},
   "outputs": [
    {
     "data": {
      "text/plain": [
       "8"
      ]
     },
     "execution_count": 4,
     "metadata": {},
     "output_type": "execute_result"
    }
   ],
   "source": [
    "movie=['polar','Action','hero','Thriller','RRR','Drishyam 2','Farzi','The night manger']\n",
    "len(movie)"
   ]
  },
  {
   "cell_type": "code",
   "execution_count": 18,
   "metadata": {},
   "outputs": [
    {
     "name": "stdout",
     "output_type": "stream",
     "text": [
      "Farzi\n",
      "The night manger\n"
     ]
    }
   ],
   "source": [
    "print(movie[6])\n",
    "print(movie[-1])"
   ]
  },
  {
   "cell_type": "code",
   "execution_count": 19,
   "metadata": {},
   "outputs": [
    {
     "name": "stdout",
     "output_type": "stream",
     "text": [
      "['polar', 'Action', 'hero', 'Thriller', 'Bahubali', 'Drishyam 2', 'Farzi', 'The night manger']\n"
     ]
    }
   ],
   "source": [
    "movie[4]='Bahubali'\n",
    "print(movie)"
   ]
  },
  {
   "cell_type": "code",
   "execution_count": 30,
   "metadata": {},
   "outputs": [
    {
     "name": "stdout",
     "output_type": "stream",
     "text": [
      "['polar', 'Action', 'hero', 'Thriller', 'Bahubali']\n",
      "['Thriller', 'Bahubali', 'Drishyam 2', 'Farzi', 'The night manger']\n",
      "['Thriller', 'Bahubali']\n",
      "['The night manger', 'Farzi', 'Drishyam 2', 'Bahubali', 'Thriller', 'hero', 'Action', 'polar']\n",
      "['polar', 'hero', 'Bahubali', 'Farzi']\n",
      "['polar', 'Thriller', 'Farzi']\n",
      "['hero', 'Thriller', 'Bahubali']\n"
     ]
    }
   ],
   "source": [
    "print(movie[:5]) #first five movies\n",
    "print(movie[-5:]) #last five movies\n",
    "print(movie[3:-3])  #all movies except first three and last three\n",
    "print(movie[::-1])\n",
    "print(movie[::2])\n",
    "print(movie[::3])\n",
    "print(movie[2:5])"
   ]
  },
  {
   "cell_type": "code",
   "execution_count": 7,
   "metadata": {},
   "outputs": [],
   "source": [
    "movie.append('The Matrix')"
   ]
  },
  {
   "cell_type": "code",
   "execution_count": 9,
   "metadata": {},
   "outputs": [
    {
     "name": "stdout",
     "output_type": "stream",
     "text": [
      "['polar', 'Action', 'hero', 'Thriller', 'RRR', 'Drishyam 2', 'Farzi', 'The night manger', 'The Matrix']\n"
     ]
    }
   ],
   "source": [
    "print(movie)"
   ]
  },
  {
   "cell_type": "code",
   "execution_count": 10,
   "metadata": {},
   "outputs": [],
   "source": [
    "for i in range(3):\n",
    "    name=input(\"Enter a name:\")\n",
    "    movie.append(name)"
   ]
  },
  {
   "cell_type": "code",
   "execution_count": 12,
   "metadata": {},
   "outputs": [
    {
     "name": "stdout",
     "output_type": "stream",
     "text": [
      "['polar', 'Action', 'hero', 'Thriller', 'RRR', 'Drishyam 2', 'Farzi', 'The night manger', 'The Matrix', 'RRR', 'Krrish', 'spiderman']\n"
     ]
    }
   ],
   "source": [
    "print(movie)"
   ]
  },
  {
   "cell_type": "code",
   "execution_count": 13,
   "metadata": {},
   "outputs": [
    {
     "data": {
      "text/plain": [
       "4"
      ]
     },
     "execution_count": 13,
     "metadata": {},
     "output_type": "execute_result"
    }
   ],
   "source": [
    "movie.index('RRR')"
   ]
  },
  {
   "cell_type": "code",
   "execution_count": 14,
   "metadata": {},
   "outputs": [
    {
     "name": "stdout",
     "output_type": "stream",
     "text": [
      "['polar', 'Action', 'hero', 'Thriller', 'Krish 3', 'RRR', 'Drishyam 2', 'Farzi', 'The night manger', 'The Matrix', 'RRR', 'Krrish', 'spiderman']\n"
     ]
    }
   ],
   "source": [
    "movie.insert(4,'Krish 3')\n",
    "print(movie)\n"
   ]
  },
  {
   "cell_type": "code",
   "execution_count": 16,
   "metadata": {},
   "outputs": [
    {
     "name": "stdout",
     "output_type": "stream",
     "text": [
      "['polar', 'Action', 'hero', 'Thriller', 'Krish 3', 'RRR', 'Drishyam 2', 'Farzi', 'Matrix:Reloaded', 'The Matrix', 'RRR', 'Krrish', 'spiderman']\n"
     ]
    }
   ],
   "source": [
    "movie[-5]='Matrix:Reloaded'\n",
    "print(movie)"
   ]
  },
  {
   "cell_type": "code",
   "execution_count": 17,
   "metadata": {},
   "outputs": [],
   "source": [
    "movie.remove('RRR')"
   ]
  },
  {
   "cell_type": "code",
   "execution_count": 20,
   "metadata": {},
   "outputs": [
    {
     "name": "stdout",
     "output_type": "stream",
     "text": [
      "['polar', 'Action', 'hero', 'Thriller', 'Krish 3', 'Drishyam 2', 'Farzi', 'Matrix:Reloaded', 'The Matrix', 'spiderman']\n"
     ]
    }
   ],
   "source": [
    "movie.pop(-2)\n",
    "print(movie)"
   ]
  },
  {
   "cell_type": "code",
   "execution_count": 22,
   "metadata": {},
   "outputs": [
    {
     "name": "stdout",
     "output_type": "stream",
     "text": [
      "Farzi\n"
     ]
    }
   ],
   "source": [
    "movie_removed=movie.pop(5)\n",
    "print(movie_removed)"
   ]
  },
  {
   "cell_type": "code",
   "execution_count": 24,
   "metadata": {},
   "outputs": [],
   "source": [
    "x=[1,2,3]\n",
    "y=[4,5,6]"
   ]
  },
  {
   "cell_type": "code",
   "execution_count": 26,
   "metadata": {},
   "outputs": [
    {
     "data": {
      "text/plain": [
       "[1, 2, 3, 4, 5, 6]"
      ]
     },
     "execution_count": 26,
     "metadata": {},
     "output_type": "execute_result"
    }
   ],
   "source": [
    "x+y"
   ]
  },
  {
   "cell_type": "code",
   "execution_count": 27,
   "metadata": {},
   "outputs": [
    {
     "name": "stdout",
     "output_type": "stream",
     "text": [
      "[1, 2, 3, 4, 5, 6]\n"
     ]
    }
   ],
   "source": [
    "x.extend(y)\n",
    "print(x)"
   ]
  },
  {
   "cell_type": "code",
   "execution_count": 34,
   "metadata": {},
   "outputs": [
    {
     "name": "stdout",
     "output_type": "stream",
     "text": [
      "['spiderman', 'The Matrix', 'Matrix:Reloaded', 'Krish 3', 'Thriller', 'hero', 'Action', 'polar']\n"
     ]
    }
   ],
   "source": [
    "movie.reverse()\n",
    "print(movie)"
   ]
  },
  {
   "cell_type": "code",
   "execution_count": 35,
   "metadata": {},
   "outputs": [
    {
     "name": "stdout",
     "output_type": "stream",
     "text": [
      "['Action', 'Krish 3', 'Matrix:Reloaded', 'The Matrix', 'Thriller', 'hero', 'polar', 'spiderman']\n"
     ]
    }
   ],
   "source": [
    "movie.sort()\n",
    "print(movie)"
   ]
  },
  {
   "cell_type": "code",
   "execution_count": 37,
   "metadata": {},
   "outputs": [
    {
     "name": "stdout",
     "output_type": "stream",
     "text": [
      "['spiderman', 'polar', 'hero', 'Thriller', 'The Matrix', 'Matrix:Reloaded', 'Krish 3', 'Action']\n"
     ]
    }
   ],
   "source": [
    "movie.sort(reverse=True)\n",
    "print(movie)"
   ]
  },
  {
   "cell_type": "code",
   "execution_count": 39,
   "metadata": {},
   "outputs": [
    {
     "data": {
      "text/plain": [
       "1"
      ]
     },
     "execution_count": 39,
     "metadata": {},
     "output_type": "execute_result"
    }
   ],
   "source": [
    "movie.count('polar')"
   ]
  },
  {
   "cell_type": "code",
   "execution_count": 40,
   "metadata": {},
   "outputs": [
    {
     "name": "stdout",
     "output_type": "stream",
     "text": [
      "3\n",
      "3\n"
     ]
    }
   ],
   "source": [
    "x=[1,2,1,2,1,2,3]\n",
    "print(x.count(1))\n",
    "print(x.count(2))"
   ]
  },
  {
   "cell_type": "code",
   "execution_count": 44,
   "metadata": {},
   "outputs": [
    {
     "name": "stdout",
     "output_type": "stream",
     "text": [
      "[1, 2, 1, 2, 1, 2, 3]\n"
     ]
    }
   ],
   "source": [
    "z= x.copy()\n",
    "print(z)"
   ]
  },
  {
   "cell_type": "code",
   "execution_count": null,
   "metadata": {},
   "outputs": [],
   "source": [
    "a=10 \n",
    "b=a\n",
    "x=[2,31,3,123,123,1,3]\n",
    "y=x.copy()"
   ]
  }
 ],
 "metadata": {
  "kernelspec": {
   "display_name": "base",
   "language": "python",
   "name": "python3"
  },
  "language_info": {
   "codemirror_mode": {
    "name": "ipython",
    "version": 3
   },
   "file_extension": ".py",
   "mimetype": "text/x-python",
   "name": "python",
   "nbconvert_exporter": "python",
   "pygments_lexer": "ipython3",
   "version": "3.10.8"
  },
  "orig_nbformat": 4,
  "vscode": {
   "interpreter": {
    "hash": "6f5583cf1d9466b5c27e75c89cc6b383bed5736d6b16c51c8074d8690011a952"
   }
  }
 },
 "nbformat": 4,
 "nbformat_minor": 2
}
