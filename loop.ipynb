{
 "cells": [
  {
   "cell_type": "code",
   "execution_count": 10,
   "metadata": {},
   "outputs": [
    {
     "name": "stdout",
     "output_type": "stream",
     "text": [
      "23\n"
     ]
    }
   ],
   "source": [
    "name=\"vijay deenanath chauhan\"\n",
    "print(len(name))"
   ]
  },
  {
   "cell_type": "code",
   "execution_count": null,
   "metadata": {},
   "outputs": [
    {
     "name": "stdout",
     "output_type": "stream",
     "text": [
      "v\n",
      "j\n",
      "y\n",
      " \n",
      "d\n",
      "n\n",
      "n\n",
      "t\n",
      "h\n",
      " \n"
     ]
    }
   ],
   "source": [
    "for i in name:\n",
    "    if i in name:\n",
    "      if i not in \"aeiouAEIOU\":\n",
    "        print(i)"
   ]
  },
  {
   "cell_type": "code",
   "execution_count": 11,
   "metadata": {},
   "outputs": [
    {
     "name": "stdout",
     "output_type": "stream",
     "text": [
      "red\n",
      "green\n",
      "yellow\n"
     ]
    }
   ],
   "source": [
    "colors=['red','green','yellow']\n",
    "for i in colors:\n",
    "    print(i)"
   ]
  },
  {
   "cell_type": "code",
   "execution_count": 14,
   "metadata": {},
   "outputs": [
    {
     "name": "stdout",
     "output_type": "stream",
     "text": [
      "red has 3 chars\n",
      "green has 5 chars\n",
      "yellow has 6 chars\n"
     ]
    }
   ],
   "source": [
    "for i in colors:\n",
    "    print(f'{i} has {len(i)} chars')"
   ]
  },
  {
   "cell_type": "code",
   "execution_count": 43,
   "metadata": {},
   "outputs": [
    {
     "name": "stdout",
     "output_type": "stream",
     "text": [
      "red is odd number\n",
      "green is odd number\n",
      "yellow is even number\n",
      "Blue is even number\n"
     ]
    }
   ],
   "source": [
    "l=[\"red\",\"green\",\"yellow\",\"Blue\"]\n",
    "for i in l:\n",
    "    if len(i)%2 ==0:\n",
    "       print(f'{i} is even number')\n",
    "    else:\n",
    "       print(f'{i} is odd number')"
   ]
  },
  {
   "cell_type": "code",
   "execution_count": 1,
   "metadata": {},
   "outputs": [
    {
     "name": "stdout",
     "output_type": "stream",
     "text": [
      "1+3**2=16\n",
      "2+5**2=49\n",
      "3+6**2=81\n",
      "4+7**2=121\n",
      "5+8**2=169\n",
      "6+2**2=64\n"
     ]
    }
   ],
   "source": [
    "x=[1,2,3,4,5,6]\n",
    "y=[3,5,6,7,8,2]\n",
    "for i,j in zip(x,y):\n",
    "    print(f'{i}+{j}**2={(i+j)**2}')\n"
   ]
  },
  {
   "attachments": {},
   "cell_type": "markdown",
   "metadata": {},
   "source": [
    "## Break and contine"
   ]
  },
  {
   "cell_type": "code",
   "execution_count": 2,
   "metadata": {},
   "outputs": [
    {
     "name": "stdout",
     "output_type": "stream",
     "text": [
      "2\n",
      "4\n",
      "6\n",
      "1\n",
      "3\n",
      "4\n",
      "5\n",
      "5\n",
      "6\n",
      "7\n",
      "2\n",
      "1\n",
      "1\n"
     ]
    }
   ],
   "source": [
    "a=[2,4,6,1,0,3,4,5,0,0,5,6,7,2,1,1]\n",
    "for i in a:\n",
    "    if i==0: continue # To skip the particular value\n",
    "    print(i)"
   ]
  },
  {
   "cell_type": "code",
   "execution_count": 4,
   "metadata": {},
   "outputs": [
    {
     "name": "stdout",
     "output_type": "stream",
     "text": [
      "sam\n",
      "sarah\n",
      "Alaxa\n",
      "john\n"
     ]
    }
   ],
   "source": [
    "names=['sam','sarah','Alaxa','john','','jack','']\n",
    "for name in names:\n",
    "    if len(name)==0: break\n",
    "    print(name)\n"
   ]
  },
  {
   "cell_type": "code",
   "execution_count": 5,
   "metadata": {},
   "outputs": [
    {
     "name": "stdout",
     "output_type": "stream",
     "text": [
      "sam\n",
      "sarah\n",
      "Alaxa\n",
      "john\n",
      "Error:Empty name found\n"
     ]
    }
   ],
   "source": [
    "for name in names:\n",
    "    if len(name)==0:\n",
    "        print('Error:Empty name found')\n",
    "        break\n",
    "    print(name)"
   ]
  }
 ],
 "metadata": {
  "kernelspec": {
   "display_name": "base",
   "language": "python",
   "name": "python3"
  },
  "language_info": {
   "codemirror_mode": {
    "name": "ipython",
    "version": 3
   },
   "file_extension": ".py",
   "mimetype": "text/x-python",
   "name": "python",
   "nbconvert_exporter": "python",
   "pygments_lexer": "ipython3",
   "version": "3.10.8"
  },
  "orig_nbformat": 4,
  "vscode": {
   "interpreter": {
    "hash": "6f5583cf1d9466b5c27e75c89cc6b383bed5736d6b16c51c8074d8690011a952"
   }
  }
 },
 "nbformat": 4,
 "nbformat_minor": 2
}
