{
 "cells": [
  {
   "cell_type": "code",
   "execution_count": null,
   "metadata": {},
   "outputs": [],
   "source": []
  },
  {
   "attachments": {},
   "cell_type": "markdown",
   "metadata": {},
   "source": [
    "# libraries or modules\n",
    "-'import lib_name'\n",
    "-'import lib_name as alias'\n",
    "\n",
    "  eg.,'''import random as rd'''\n",
    "\n",
    "  -'from lib_name import fun1,fun2, ...'\n",
    "\n",
    "  -'''from random import radint,choice\n",
    "  -from lib_name import*\n",
    "    -from rand import*"
   ]
  },
  {
   "cell_type": "code",
   "execution_count": 1,
   "metadata": {},
   "outputs": [],
   "source": [
    "import math"
   ]
  },
  {
   "cell_type": "code",
   "execution_count": 5,
   "metadata": {},
   "outputs": [
    {
     "name": "stdout",
     "output_type": "stream",
     "text": [
      "3.605551275463989\n",
      "1307674368000\n",
      "6.643856189774725\n",
      "2.718281828459045\n",
      "6\n",
      "72\n"
     ]
    }
   ],
   "source": [
    "print(math.sqrt(13))\n",
    "print(math.factorial(15))\n",
    "print(math.log(100,2))\n",
    "print(math.e)\n",
    "print(math.gcd(12,18,24))\n",
    "print(math.lcm(12,18,24))"
   ]
  },
  {
   "cell_type": "code",
   "execution_count": 7,
   "metadata": {},
   "outputs": [],
   "source": [
    "from random import random, randint, choice, shuffle"
   ]
  },
  {
   "cell_type": "code",
   "execution_count": 15,
   "metadata": {},
   "outputs": [
    {
     "name": "stdout",
     "output_type": "stream",
     "text": [
      "get a random value between 0 and 1: 0.03929665116543313\n",
      "select a random item jack\n",
      "shuffle a list ['john', 'jill', 'jamie', 'jame', 'jack']\n"
     ]
    }
   ],
   "source": [
    "print('get a random value between 0 and 1:',random())\n",
    "print('select a random item',choice(['john','jack','jill']))\n",
    "name=['john','jame','jack','jill','jamie']\n",
    "shuffle(name)\n",
    "print('shuffle a list',name)"
   ]
  },
  {
   "cell_type": "code",
   "execution_count": 16,
   "metadata": {},
   "outputs": [],
   "source": [
    "from datetime import datetime as dt"
   ]
  },
  {
   "cell_type": "code",
   "execution_count": 20,
   "metadata": {},
   "outputs": [
    {
     "name": "stdout",
     "output_type": "stream",
     "text": [
      "current time 2023-03-11 10:22:19.574841\n",
      "current date 2023-03-11\n",
      "current time 10:22:19.574841\n",
      "day 11\n"
     ]
    }
   ],
   "source": [
    "print('current time',dt.now())\n",
    "print('current date',dt.now().date())\n",
    "print('current time',dt.now().time())\n",
    "print('day',dt.now().day)"
   ]
  },
  {
   "cell_type": "code",
   "execution_count": 21,
   "metadata": {},
   "outputs": [],
   "source": [
    "import os"
   ]
  },
  {
   "cell_type": "code",
   "execution_count": 22,
   "metadata": {},
   "outputs": [
    {
     "data": {
      "text/plain": [
       "'c:\\\\DATA Science'"
      ]
     },
     "execution_count": 22,
     "metadata": {},
     "output_type": "execute_result"
    }
   ],
   "source": [
    "os.getcwd()"
   ]
  },
  {
   "cell_type": "code",
   "execution_count": 23,
   "metadata": {},
   "outputs": [
    {
     "name": "stdout",
     "output_type": "stream",
     "text": [
      "current folder c:\\DATA Science\n"
     ]
    }
   ],
   "source": [
    "print('current folder',os.getcwd())"
   ]
  },
  {
   "cell_type": "code",
   "execution_count": 24,
   "metadata": {},
   "outputs": [
    {
     "name": "stdout",
     "output_type": "stream",
     "text": [
      "['.git', '.gitignore', 'dictionary.ipynb', 'fuc.ipynb', 'func2.ipynb', 'game1.py', 'hello.py', 'level1.ipynb', 'libraries.ipynb', 'list.ipynb', 'loop.ipynb', 'm.py', 'music', 'nested.py', 'str ass.ipynb', 'strings.ipynb', 't1.py', 't2.py', 'tu.py', 'tuples.ipynb']\n"
     ]
    }
   ],
   "source": [
    "files=os.listdir()\n",
    "print(files)"
   ]
  },
  {
   "cell_type": "code",
   "execution_count": 33,
   "metadata": {},
   "outputs": [
    {
     "name": "stdout",
     "output_type": "stream",
     "text": [
      "['.git', '.gitignore', 'dictionary.ipynb', 'fuc.ipynb', 'func2.ipynb', 'game1.py', 'hello.py', 'level1.ipynb', 'libraries.ipynb', 'list.ipynb', 'loop.ipynb', 'm.py', 'music', 'nested.py', 'str ass.ipynb', 'strings.ipynb', 't1.py', 't2.py', 'tu.py', 'tuples.ipynb']\n",
      "20\n",
      "---------------\n",
      "total files 20\n"
     ]
    }
   ],
   "source": [
    "total_files=0\n",
    "files=os.listdir('c:\\\\DATA Science')\n",
    "print(files)\n",
    "print(len(files))\n",
    "print('-'*15)\n",
    "total_files +=len(files)\n",
    "print('total files',total_files)"
   ]
  },
  {
   "cell_type": "code",
   "execution_count": 32,
   "metadata": {},
   "outputs": [
    {
     "name": "stdout",
     "output_type": "stream",
     "text": [
      "=>,path\n",
      "📁 ['.git', 'music']\n",
      "📂 ['.gitignore', 'dictionary.ipynb', 'fuc.ipynb', 'func2.ipynb', 'game1.py', 'hello.py', 'level1.ipynb', 'libraries.ipynb', 'list.ipynb', 'loop.ipynb', 'm.py', 'nested.py', 'str ass.ipynb', 'strings.ipynb', 't1.py', 't2.py', 'tu.py', 'tuples.ipynb']\n",
      "=>,path\n",
      "📁 ['hooks', 'info', 'logs', 'objects', 'refs']\n",
      "📂 ['COMMIT_EDITMSG', 'config', 'description', 'FETCH_HEAD', 'HEAD', 'index', 'ORIG_HEAD']\n",
      "=>,path\n",
      "📁 []\n",
      "📂 ['applypatch-msg.sample', 'commit-msg.sample', 'fsmonitor-watchman.sample', 'post-update.sample', 'pre-applypatch.sample', 'pre-commit.sample', 'pre-merge-commit.sample', 'pre-push.sample', 'pre-rebase.sample', 'pre-receive.sample', 'prepare-commit-msg.sample', 'push-to-checkout.sample', 'update.sample']\n",
      "=>,path\n",
      "📁 []\n",
      "📂 ['exclude']\n",
      "=>,path\n",
      "📁 ['refs']\n",
      "📂 ['HEAD']\n",
      "=>,path\n",
      "📁 ['heads', 'remotes']\n",
      "📂 []\n",
      "=>,path\n",
      "📁 []\n",
      "📂 ['master']\n",
      "=>,path\n",
      "📁 ['origin']\n",
      "📂 []\n",
      "=>,path\n",
      "📁 []\n",
      "📂 ['master']\n",
      "=>,path\n",
      "📁 ['00', '01', '04', '06', '07', '0a', '1f', '22', '27', '36', '41', '42', '43', '48', '53', '54', '59', '5a', '5c', '65', '67', '68', '6b', '6d', '70', '72', '7b', '86', '9e', '9f', 'a0', 'ab', 'ac', 'ad', 'b0', 'b3', 'b5', 'b8', 'c3', 'c9', 'cb', 'cf', 'd2', 'df', 'e6', 'eb', 'ef', 'f1', 'f6', 'f7', 'info', 'pack']\n",
      "📂 []\n",
      "=>,path\n",
      "📁 []\n",
      "📂 ['89ce15e67ad1193866b55980b0dd50b72ccd38']\n",
      "=>,path\n",
      "📁 []\n",
      "📂 ['37e09f9664781a57560afb27ad902b2602e6ce']\n",
      "=>,path\n",
      "📁 []\n",
      "📂 ['49efd581cd96fdac562e61641c2926d0aaf95d']\n",
      "=>,path\n",
      "📁 []\n",
      "📂 ['20a19c7097b8ae88cf277360dd58c7251942bb', '67e3e350641788afee583624f683c5a62e12ec']\n",
      "=>,path\n",
      "📁 []\n",
      "📂 ['e4d5fcc82c33b2b6dd7f500dae5be0d5665f43']\n",
      "=>,path\n",
      "📁 []\n",
      "📂 ['ffcdd767fa9a895a525e235071d2f62328ed37']\n",
      "=>,path\n",
      "📁 []\n",
      "📂 ['753a57ffda628cf8610ff6f25f757e017a3d8a', '953eb4974cf9195b0def8088bf8df686796172', 'eca22546575de7817c6f2af9e895b21c24cebc']\n",
      "=>,path\n",
      "📁 []\n",
      "📂 ['4a94ae3709ab5f4bf4d1241419da364b2a0afb']\n",
      "=>,path\n",
      "📁 []\n",
      "📂 ['0657024d9089e4cbc699a2d397e02523c5f7f5']\n",
      "=>,path\n",
      "📁 []\n",
      "📂 ['4f5c9720c29fd528d520165dbb8cabafa8a696']\n",
      "=>,path\n",
      "📁 []\n",
      "📂 ['bf63bc3f4532e0ff8c93f326ebafc37db44a5b']\n",
      "=>,path\n",
      "📁 []\n",
      "📂 ['0a63c18d0121e01f3423632b28fcc214506ec9']\n",
      "=>,path\n",
      "📁 []\n",
      "📂 ['864221d0d95699b4d24bbd9445e99f58130a3e']\n",
      "=>,path\n",
      "📁 []\n",
      "📂 ['ff5a0ccd98d42f6afdb0bbdf521d58504063d8']\n",
      "=>,path\n",
      "📁 []\n",
      "📂 ['751dc29298ac1d81bc450e6528fa1d8d8f1a76']\n",
      "=>,path\n",
      "📁 []\n",
      "📂 ['b2ff104a52969834d5dea23236136e38080dfb']\n",
      "=>,path\n",
      "📁 []\n",
      "📂 ['60816ce8e8a22cb1ac9373f5a46458927f38b4']\n",
      "=>,path\n",
      "📁 []\n",
      "📂 ['89779547521b6e3cd99185c51a24b1e818f006']\n",
      "=>,path\n",
      "📁 []\n",
      "📂 ['2c183761bbd43c33eb5332b7427cb5dc4d97ae']\n",
      "=>,path\n",
      "📁 []\n",
      "📂 ['902758a8c4e694548c1fd858bfa8ec9cb8fe57']\n",
      "=>,path\n",
      "📁 []\n",
      "📂 ['d649cef030823ac48cc240f2060630873574a5']\n",
      "=>,path\n",
      "📁 []\n",
      "📂 ['8add5998127933f287ced786546bf98d078a8c']\n",
      "=>,path\n",
      "📁 []\n",
      "📂 ['def2eed16f1ebdb3f47f5f0957ac012c06dd14']\n",
      "=>,path\n",
      "📁 []\n",
      "📂 ['c6f555ec841cb48e064d0a0b7786e94875b414']\n",
      "=>,path\n",
      "📁 []\n",
      "📂 ['dbaf249c247f86f58300e82c135f01ea1b9401']\n",
      "=>,path\n",
      "📁 []\n",
      "📂 ['e743dd0d6d3202262801f7f6b6034d5d8bd59c']\n",
      "=>,path\n",
      "📁 []\n",
      "📂 ['1240a5b9e633c3186a8bcaedd9db39f739063a']\n",
      "=>,path\n",
      "📁 []\n",
      "📂 ['ab48b46249c7c065b3bab34bc83c38c8ccaa8f']\n",
      "=>,path\n",
      "📁 []\n",
      "📂 ['1b9c0dd10b4efaba2726fe108d0bc8953707f4', '7e82e7bb6a5161e00834488adadb0ea65e95e9']\n",
      "=>,path\n",
      "📁 []\n",
      "📂 ['46104020e6e704d40503533f73c8a3ea9e6a87']\n",
      "=>,path\n",
      "📁 []\n",
      "📂 ['bcd867673d8c561ed9b762cfe2d1a83dda4a7e']\n",
      "=>,path\n",
      "📁 []\n",
      "📂 ['ca100c25b8362685d90a0d306536862a685453']\n",
      "=>,path\n",
      "📁 []\n",
      "📂 ['ed3d7d90b3511e212e422841434dff830075aa']\n",
      "=>,path\n",
      "📁 []\n",
      "📂 ['80076347bb7a8d1b9a3fd05754e4c0d0333c25']\n",
      "=>,path\n",
      "📁 []\n",
      "📂 ['0b9d98a81aac54075cd64291883a2b45072a1c']\n",
      "=>,path\n",
      "📁 []\n",
      "📂 ['eebe4336d5310e3215ab932dd5c34454024f36']\n",
      "=>,path\n",
      "📁 []\n",
      "📂 ['ff03e3895468e4d073997fb675b7533a915625']\n",
      "=>,path\n",
      "📁 []\n",
      "📂 ['4d0ca82721cadda6318d8f7552e108cb19c5fd']\n",
      "=>,path\n",
      "📁 []\n",
      "📂 ['6914e9f433e02bb79e67c416f74ea2248312ed']\n",
      "=>,path\n",
      "📁 []\n",
      "📂 ['1d5478fc5ec2b7f0fd9db100147a102c875c3a', '80ddf99ce898201593e42021711b8f9168f498']\n",
      "=>,path\n",
      "📁 []\n",
      "📂 ['550a49701c16f4c8e65f920ac6edd422cf8b75', '7f5928bdacdacd7114d637bde4d03742933dca']\n",
      "=>,path\n",
      "📁 []\n",
      "📂 ['6165d06fac4f9ee8d2d64b04d3359097f9aeb2']\n",
      "=>,path\n",
      "📁 []\n",
      "📂 ['f69ab807899f62aa010223bc1c7ffcc678577a']\n",
      "=>,path\n",
      "📁 []\n",
      "📂 ['21b7e6a4abb91a51f3095ba1b633901826926f', '66a582e781a3e4efd40f8a422fdba8222c9600']\n",
      "=>,path\n",
      "📁 []\n",
      "📂 ['05279cee635a4a5614a87c136eaf7f0e7f2529', '615b597c8f43ef313a48552f7c85b791231440', '9de29bb2d1d6434b8b29ae775ad8c2e48c5391']\n",
      "=>,path\n",
      "📁 []\n",
      "📂 ['8e282053d4a253e7968cfb43ea7aedb4d3a4c9']\n",
      "=>,path\n",
      "📁 []\n",
      "📂 ['2767ff0ed18a4f7dc1a71544411784f7481c96']\n",
      "=>,path\n",
      "📁 []\n",
      "📂 ['9c3d581a29d916e2ffeaf3790659e595e4b079']\n",
      "=>,path\n",
      "📁 []\n",
      "📂 ['692911c61b912fa8592e4bb26c42785209803b']\n",
      "=>,path\n",
      "📁 []\n",
      "📂 ['9826d97f8498371ee4ca1bcd3eb1e59b126a87']\n",
      "=>,path\n",
      "📁 []\n",
      "📂 []\n",
      "=>,path\n",
      "📁 []\n",
      "📂 []\n",
      "=>,path\n",
      "📁 ['heads', 'remotes', 'tags']\n",
      "📂 []\n",
      "=>,path\n",
      "📁 []\n",
      "📂 ['master']\n",
      "=>,path\n",
      "📁 ['origin']\n",
      "📂 []\n",
      "=>,path\n",
      "📁 []\n",
      "📂 ['master']\n",
      "=>,path\n",
      "📁 []\n",
      "📂 []\n",
      "=>,path\n",
      "📁 []\n",
      "📂 ['bg.mp3']\n"
     ]
    }
   ],
   "source": [
    "for path,folders,files in os.walk('c:/DATA Science'):\n",
    "    print('=>,path')\n",
    "    print('📁',folders)\n",
    "    print('📂',files)"
   ]
  },
  {
   "cell_type": "code",
   "execution_count": 41,
   "metadata": {},
   "outputs": [
    {
     "name": "stdout",
     "output_type": "stream",
     "text": [
      "file exists\n",
      "file size 8192 bytes\n",
      "file size 8.0 KB\n",
      "file size 0.0078125 MB\n",
      "file size 7.62939453125e-06 GB\n"
     ]
    }
   ],
   "source": [
    "file=\"C:/ayush personal/\"\n",
    "if os.path.exists(file):\n",
    "    print('file exists')\n",
    "    size=os.path.getsize(file)\n",
    "    print('file size',size,'bytes')\n",
    "    print('file size',size/1024,'KB')\n",
    "    print('file size',size/(1024*1024),'MB')\n",
    "    print('file size',size/(1024*1024*1024),'GB')\n",
    "\n",
    "else:\n",
    "    print('file does not exist')\n"
   ]
  },
  {
   "cell_type": "code",
   "execution_count": null,
   "metadata": {},
   "outputs": [],
   "source": []
  }
 ],
 "metadata": {
  "kernelspec": {
   "display_name": "base",
   "language": "python",
   "name": "python3"
  },
  "language_info": {
   "codemirror_mode": {
    "name": "ipython",
    "version": 3
   },
   "file_extension": ".py",
   "mimetype": "text/x-python",
   "name": "python",
   "nbconvert_exporter": "python",
   "pygments_lexer": "ipython3",
   "version": "3.10.8"
  },
  "orig_nbformat": 4
 },
 "nbformat": 4,
 "nbformat_minor": 2
}
