{
 "cells": [
  {
   "cell_type": "code",
   "execution_count": 1,
   "metadata": {},
   "outputs": [],
   "source": [
    "from dputils.scrape import Scraper,Tag"
   ]
  },
  {
   "cell_type": "code",
   "execution_count": 2,
   "metadata": {},
   "outputs": [
    {
     "name": "stdout",
     "output_type": "stream",
     "text": [
      "<title>Amazon.in : mobile</title>\n"
     ]
    }
   ],
   "source": [
    "query='mobile'\n",
    "page=3\n",
    "webpage=Scraper(f'https://www.amazon.in/s?k={query}&page={page}')\n",
    "print(webpage.soup.title)"
   ]
  },
  {
   "cell_type": "code",
   "execution_count": 3,
   "metadata": {},
   "outputs": [],
   "source": [
    "target =Tag ('div',cls='s-main-slot s-result-list s-search-results sg-row')\n",
    "items= Tag('div',cls='s-result-item')#repeating products\n",
    "title= Tag('h2')\n",
    "price=Tag('span',cls='a-price-whole')"
   ]
  },
  {
   "cell_type": "code",
   "execution_count": 4,
   "metadata": {},
   "outputs": [
    {
     "data": {
      "text/plain": [
       "[{'title': None, 'price': None},\n",
       " {'title': None, 'price': None},\n",
       " {'title': 'Apple iPhone 13 (128GB) - Midnight  ', 'price': '61,999'},\n",
       " {'title': 'Apple iPhone 13 Mini (128GB) - Midnight  ', 'price': '64,900'},\n",
       " {'title': 'Redmi 10A (Sea Blue, 4GB RAM, 64GB Storage) | 2 Ghz Octa Core Helio G25 | 5000 mAh Battery | Finger Print Sensor | Upto 5GB RAM with RAM Booster  ',\n",
       "  'price': '8,999'},\n",
       " {'title': 'Samsung Galaxy A23 Blue, 8GB RAM, 128GB Storage with No Cost EMI/Additional Exchange Offers  ',\n",
       "  'price': '18,999'},\n",
       " {'title': 'Vivo Y35 (Dawn Gold, 8GB RAM, 128GB Storage) with No Cost EMI/Additional Exchange Offers  ',\n",
       "  'price': '17,499'},\n",
       " {'title': None, 'price': None},\n",
       " {'title': 'Tecno Spark 9 (Infinity Black, 4GB RAM,64GB Storage) | 7GB Expandable RAM | Helio G37 Gaming Processor  ',\n",
       "  'price': '7,999'},\n",
       " {'title': 'Redmi A1 (Light Green, 2GB RAM 32GB ROM) | Segment Best AI Dual Cam | 5000mAh Battery | Leather Texture Design | Android 12  ',\n",
       "  'price': '6,499'},\n",
       " {'title': 'Lava Blaze 5G (Glass Green, 6GB RAM, UFS 2.2 128GB Storage) | 5G Ready | 50MP AI Triple Camera | Upto 9GB Expandable RAM | Charger Included | Clean Android (No Bloatware)  ',\n",
       "  'price': '11,999'},\n",
       " {'title': 'OnePlus Nord 2T 5G (Jade Fog, 8GB RAM, 128GB Storage)  ',\n",
       "  'price': '28,999'},\n",
       " {'title': 'Nokia C12 Android 12 (Go Edition) Smartphone, All-Day Battery, 4GB RAM (2GB RAM + 2GB Virtual RAM) + 64GB Capacity | Light Mint  ',\n",
       "  'price': '6,599'},\n",
       " {'title': '(Renewed) realme GT 5G Master Edition (Cosmos Black, 6GB RAM, 128GB Storage), Medium (GT Master Edition)  ',\n",
       "  'price': '17,499'},\n",
       " {'title': 'IKALL K450 4G Smartphone with 6.26 Inch HD Display (4GB RAM, 32GB Storage) (Dark Blue)  ',\n",
       "  'price': '5,999'},\n",
       " {'title': 'realme narzo 50A (Oxygen Blue , 4GB RAM + 128 GB Storage) Helio G85 Processor | 6000 mAh Battery  ',\n",
       "  'price': '12,499'},\n",
       " {'title': None, 'price': None},\n",
       " {'title': 'Tecno Spark 8 Pro (Interstellar Black, 4GB RAM,64GB Storage) | 48MP Triple Camera | 33W Fast Charger  ',\n",
       "  'price': '8,299'},\n",
       " {'title': 'Redmi 11 Prime 5G (Thunder Black, 6GB RAM, 128GB Storage) | Prime Design | MTK Dimensity 700 | 50 MP Dual Cam | 5000mAh | 7 Band 5G  ',\n",
       "  'price': '15,999'},\n",
       " {'title': 'Samsung Galaxy S20 FE 5G (Cloud Navy, 8GB RAM, 128GB Storage) with No Cost EMI & Additional Exchange Offers  ',\n",
       "  'price': '34,999'},\n",
       " {'title': 'Samsung Galaxy M33 5G (Emerald Brown, 6GB, 128GB Storage) | 6000mAh Battery | Upto 12GB RAM with RAM Plus | Travel Adapter to be Purchased Separately  ',\n",
       "  'price': '17,999'},\n",
       " {'title': 'Apple iPhone 13 (128GB) - Blue  ', 'price': '61,999'},\n",
       " {'title': 'Vivo Y56 5G (Black Engine, 8GB RAM, 128GB Storage) with No Cost EMI/Additional Exchange Offers  ',\n",
       "  'price': '19,999'},\n",
       " {'title': 'Samsung Galaxy M13 (Aqua Green, 4GB, 64GB Storage) | 6000mAh Battery | Upto 8GB RAM with RAM Plus  ',\n",
       "  'price': '10,999'},\n",
       " {'title': 'Redmi Note 12 5G Mystique Blue 4GB RAM 128GB ROM | 1st Phone with 120Hz Super AMOLED and Snapdragon® 4 Gen 1 | 48MP AI Triple Camera  ',\n",
       "  'price': '17,999'},\n",
       " {'title': 'IKALL Z13 4G Smartphone with 6.53 inch HD+ Display (4GB RAM, 64GB Storage) (Grey)  ',\n",
       "  'price': '6,499'},\n",
       " {'title': None, 'price': None},\n",
       " {'title': None, 'price': None},\n",
       " {'title': None, 'price': None}]"
      ]
     },
     "execution_count": 4,
     "metadata": {},
     "output_type": "execute_result"
    }
   ],
   "source": [
    "webpage.get_all(target,items,title=title,price=price)"
   ]
  },
  {
   "cell_type": "code",
   "execution_count": 20,
   "metadata": {},
   "outputs": [],
   "source": [
    "def scrape_product(query,page=1):\n",
    "    webpage=Scraper(f'https://www.amazon.in/s?k={query}&page={page}')\n",
    "    print(webpage.soup.title)\n",
    "    #important\n",
    "    target =Tag ('div',cls='s-main-slot s-result-list s-search-results sg-row')\n",
    "    items= Tag('div',cls='s-result-item')#repeating products\n",
    "    title= Tag('h2',cls='a-size-mini a-spacing-none a-color-base s-line-clamp-2')\n",
    "    price=Tag('span',cls='a-price-whole')\n",
    "    rating=Tag('i',cls='a-icon a-icon-star-small a-star-small-4 aok-align-bottom')\n",
    "\n",
    "    return webpage.get_all(target,items,title=title,price=price,rating=rating)\n",
    "        "
   ]
  },
  {
   "cell_type": "code",
   "execution_count": 21,
   "metadata": {},
   "outputs": [
    {
     "name": "stdout",
     "output_type": "stream",
     "text": [
      "<title>Amazon.in : laptops</title>\n",
      "Page 1 done\n",
      "<title>Amazon.in : laptops</title>\n",
      "Page 2 done\n",
      "<title>Amazon.in : laptops</title>\n",
      "Page 3 done\n",
      "<title>Amazon.in : laptops</title>\n",
      "Page 4 done\n",
      "<title>Amazon.in : laptops</title>\n",
      "Page 5 done\n",
      "<title>Amazon.in : laptops</title>\n",
      "Page 6 done\n",
      "<title>Amazon.in : laptops</title>\n",
      "Page 7 done\n",
      "<title>Amazon.in : laptops</title>\n",
      "Page 8 done\n",
      "<title>Amazon.in : laptops</title>\n",
      "Page 9 done\n",
      "<title>Amazon.in : laptops</title>\n",
      "Page 10 done\n",
      "<title>Amazon.in : laptops</title>\n",
      "Page 11 done\n",
      "<title>Amazon.in : laptops</title>\n",
      "Page 12 done\n",
      "<title>Amazon.in : laptops</title>\n",
      "Page 13 done\n",
      "<title>Amazon.in : laptops</title>\n",
      "Page 14 done\n"
     ]
    }
   ],
   "source": [
    "all_data=[]\n",
    "query='laptops'\n",
    "for i in range (1,15):\n",
    "    all_data.extend(scrape_product(query,i))\n",
    "    print(f'Page {i} done')"
   ]
  },
  {
   "cell_type": "code",
   "execution_count": 22,
   "metadata": {},
   "outputs": [],
   "source": [
    "import pandas as pd\n",
    "df = pd.DataFrame(all_data).dropna(how='all')\n",
    "df.to_csv('laptops.csv',index=False)"
   ]
  },
  {
   "cell_type": "code",
   "execution_count": 23,
   "metadata": {},
   "outputs": [
    {
     "data": {
      "text/html": [
       "<div>\n",
       "<style scoped>\n",
       "    .dataframe tbody tr th:only-of-type {\n",
       "        vertical-align: middle;\n",
       "    }\n",
       "\n",
       "    .dataframe tbody tr th {\n",
       "        vertical-align: top;\n",
       "    }\n",
       "\n",
       "    .dataframe thead th {\n",
       "        text-align: right;\n",
       "    }\n",
       "</style>\n",
       "<table border=\"1\" class=\"dataframe\">\n",
       "  <thead>\n",
       "    <tr style=\"text-align: right;\">\n",
       "      <th></th>\n",
       "      <th>title</th>\n",
       "      <th>price</th>\n",
       "      <th>rating</th>\n",
       "    </tr>\n",
       "  </thead>\n",
       "  <tbody>\n",
       "    <tr>\n",
       "      <th>2</th>\n",
       "      <td>HP 15s, AMD Ryzen 3 5300U, 15.6 inch(39.6cm) F...</td>\n",
       "      <td>39,990</td>\n",
       "      <td>4.1 out of 5 stars</td>\n",
       "    </tr>\n",
       "    <tr>\n",
       "      <th>3</th>\n",
       "      <td>Dell Vostro 3420 Laptop,12th Gen Intel Core i3...</td>\n",
       "      <td>41,990</td>\n",
       "      <td>3.9 out of 5 stars</td>\n",
       "    </tr>\n",
       "    <tr>\n",
       "      <th>4</th>\n",
       "      <td>Honor MagicBook 14, AMD Ryzen 5 5500U 14-inch ...</td>\n",
       "      <td>44,490</td>\n",
       "      <td>None</td>\n",
       "    </tr>\n",
       "    <tr>\n",
       "      <th>5</th>\n",
       "      <td>HP 255 G8 Laptop with AMD Athlon Silver 3050U ...</td>\n",
       "      <td>26,999</td>\n",
       "      <td>None</td>\n",
       "    </tr>\n",
       "    <tr>\n",
       "      <th>6</th>\n",
       "      <td>Lenovo IdeaPad Slim 3 Intel Core i3-1115G4 11t...</td>\n",
       "      <td>33,639</td>\n",
       "      <td>4.0 out of 5 stars</td>\n",
       "    </tr>\n",
       "    <tr>\n",
       "      <th>...</th>\n",
       "      <td>...</td>\n",
       "      <td>...</td>\n",
       "      <td>...</td>\n",
       "    </tr>\n",
       "    <tr>\n",
       "      <th>448</th>\n",
       "      <td>Dell Inspiron 3520 Laptop,12th Gen Intel Core ...</td>\n",
       "      <td>46,990</td>\n",
       "      <td>None</td>\n",
       "    </tr>\n",
       "    <tr>\n",
       "      <th>449</th>\n",
       "      <td>Dell Inspiron 3520 Laptop,12th Gen Intel Core ...</td>\n",
       "      <td>60,490</td>\n",
       "      <td>3.8 out of 5 stars</td>\n",
       "    </tr>\n",
       "    <tr>\n",
       "      <th>450</th>\n",
       "      <td>Dell Inspiron 3525 Laptop, AMD Ryzen R3-5425U,...</td>\n",
       "      <td>39,990</td>\n",
       "      <td>None</td>\n",
       "    </tr>\n",
       "    <tr>\n",
       "      <th>451</th>\n",
       "      <td>Xiaomi NoteBook Pro 120 12th Gen Intel i5-1245...</td>\n",
       "      <td>64,999</td>\n",
       "      <td>4.0 out of 5 stars</td>\n",
       "    </tr>\n",
       "    <tr>\n",
       "      <th>452</th>\n",
       "      <td>ASUS Vivobook 14, Intel Core i7-1165G7 11th Ge...</td>\n",
       "      <td>56,990</td>\n",
       "      <td>4.1 out of 5 stars</td>\n",
       "    </tr>\n",
       "  </tbody>\n",
       "</table>\n",
       "<p>354 rows × 3 columns</p>\n",
       "</div>"
      ],
      "text/plain": [
       "                                                 title   price  \\\n",
       "2    HP 15s, AMD Ryzen 3 5300U, 15.6 inch(39.6cm) F...  39,990   \n",
       "3    Dell Vostro 3420 Laptop,12th Gen Intel Core i3...  41,990   \n",
       "4    Honor MagicBook 14, AMD Ryzen 5 5500U 14-inch ...  44,490   \n",
       "5    HP 255 G8 Laptop with AMD Athlon Silver 3050U ...  26,999   \n",
       "6    Lenovo IdeaPad Slim 3 Intel Core i3-1115G4 11t...  33,639   \n",
       "..                                                 ...     ...   \n",
       "448  Dell Inspiron 3520 Laptop,12th Gen Intel Core ...  46,990   \n",
       "449  Dell Inspiron 3520 Laptop,12th Gen Intel Core ...  60,490   \n",
       "450  Dell Inspiron 3525 Laptop, AMD Ryzen R3-5425U,...  39,990   \n",
       "451  Xiaomi NoteBook Pro 120 12th Gen Intel i5-1245...  64,999   \n",
       "452  ASUS Vivobook 14, Intel Core i7-1165G7 11th Ge...  56,990   \n",
       "\n",
       "                 rating  \n",
       "2    4.1 out of 5 stars  \n",
       "3    3.9 out of 5 stars  \n",
       "4                  None  \n",
       "5                  None  \n",
       "6    4.0 out of 5 stars  \n",
       "..                  ...  \n",
       "448                None  \n",
       "449  3.8 out of 5 stars  \n",
       "450                None  \n",
       "451  4.0 out of 5 stars  \n",
       "452  4.1 out of 5 stars  \n",
       "\n",
       "[354 rows x 3 columns]"
      ]
     },
     "execution_count": 23,
     "metadata": {},
     "output_type": "execute_result"
    }
   ],
   "source": [
    "df"
   ]
  }
 ],
 "metadata": {
  "kernelspec": {
   "display_name": "base",
   "language": "python",
   "name": "python3"
  },
  "language_info": {
   "codemirror_mode": {
    "name": "ipython",
    "version": 3
   },
   "file_extension": ".py",
   "mimetype": "text/x-python",
   "name": "python",
   "nbconvert_exporter": "python",
   "pygments_lexer": "ipython3",
   "version": "3.10.8"
  },
  "orig_nbformat": 4,
  "vscode": {
   "interpreter": {
    "hash": "6f5583cf1d9466b5c27e75c89cc6b383bed5736d6b16c51c8074d8690011a952"
   }
  }
 },
 "nbformat": 4,
 "nbformat_minor": 2
}
